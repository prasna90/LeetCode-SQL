{
  "nbformat": 4,
  "nbformat_minor": 0,
  "metadata": {
    "colab": {
      "name": "175.Combine Two Tables.ipynb",
      "provenance": [],
      "collapsed_sections": [],
      "toc_visible": true,
      "authorship_tag": "ABX9TyNdo9PUQxakew9IBDDf8rBu",
      "include_colab_link": true
    },
    "kernelspec": {
      "name": "python3",
      "display_name": "Python 3"
    },
    "language_info": {
      "name": "python"
    }
  },
  "cells": [
    {
      "cell_type": "markdown",
      "metadata": {
        "id": "view-in-github",
        "colab_type": "text"
      },
      "source": [
        "<a href=\"https://colab.research.google.com/github/prasna90/LeetCode-SQL/blob/master/175_Combine_Two_Tables.ipynb\" target=\"_parent\"><img src=\"https://colab.research.google.com/assets/colab-badge.svg\" alt=\"Open In Colab\"/></a>"
      ]
    },
    {
      "cell_type": "markdown",
      "source": [
        "# Question\n",
        "```sql\n",
        "Table: Person\n",
        "\n",
        "+-------------+---------+\n",
        "| Column Name | Type    |\n",
        "+-------------+---------+\n",
        "| personId    | int     |\n",
        "| lastName    | varchar |\n",
        "| firstName   | varchar |\n",
        "+-------------+---------+\n",
        "personId is the primary key column for this table.\n",
        "This table contains information about the ID of some persons and their first and last names.\n",
        " \n",
        "\n",
        "Table: Address\n",
        "\n",
        "+-------------+---------+\n",
        "| Column Name | Type    |\n",
        "+-------------+---------+\n",
        "| addressId   | int     |\n",
        "| personId    | int     |\n",
        "| city        | varchar |\n",
        "| state       | varchar |\n",
        "+-------------+---------+\n",
        "addressId is the primary key column for this table.\n",
        "Each row of this table contains information about the city and state of one person with ID = PersonId.\n",
        " \n",
        "\n",
        "Write an SQL query to report the first name, last name, city, and state of each person in the Person table. If the address of a personId is not present in the Address table, report null instead.\n",
        "\n",
        "Return the result table in any order.\n",
        "\n",
        "The query result format is in the following example.\n",
        "\n",
        " \n",
        "\n",
        "Example 1:\n",
        "\n",
        "Input: \n",
        "Person table:\n",
        "+----------+----------+-----------+\n",
        "| personId | lastName | firstName |\n",
        "+----------+----------+-----------+\n",
        "| 1        | Wang     | Allen     |\n",
        "| 2        | Alice    | Bob       |\n",
        "+----------+----------+-----------+\n",
        "Address table:\n",
        "+-----------+----------+---------------+------------+\n",
        "| addressId | personId | city          | state      |\n",
        "+-----------+----------+---------------+------------+\n",
        "| 1         | 2        | New York City | New York   |\n",
        "| 2         | 3        | Leetcode      | California |\n",
        "+-----------+----------+---------------+------------+\n",
        "Output: \n",
        "+-----------+----------+---------------+----------+\n",
        "| firstName | lastName | city          | state    |\n",
        "+-----------+----------+---------------+----------+\n",
        "| Allen     | Wang     | Null          | Null     |\n",
        "| Bob       | Alice    | New York City | New York |\n",
        "+-----------+----------+---------------+----------+\n",
        "Explanation: \n",
        "There is no address in the address table for the personId = 1 so we return null in their city and state.\n",
        "addressId = 1 contains information about the address of personId = 2.\n",
        "\n",
        "```"
      ],
      "metadata": {
        "id": "So6dRzP2a_so"
      }
    },
    {
      "cell_type": "markdown",
      "source": [
        "# SQL Class in python\n"
      ],
      "metadata": {
        "id": "D0CZUejF1EyE"
      }
    },
    {
      "cell_type": "code",
      "source": [
        "import pandas as pd\n",
        "\n",
        "class sqlpy():\n",
        "    \n",
        "    def create_table(self,data,cols):\n",
        "      print(pd.DataFrame(data,columns= cols))\n",
        "      return pd.DataFrame(data,columns= cols)\n",
        "    \n",
        "    def compare_output(self,output,sql_out):\n",
        "      return pd.concat([output,sql_out]).drop_duplicates(keep=False)\n",
        "\n"
      ],
      "metadata": {
        "id": "PJRRLMJh1I5b"
      },
      "execution_count": 2,
      "outputs": []
    },
    {
      "cell_type": "markdown",
      "source": [
        "# Solution\n",
        "\n"
      ],
      "metadata": {
        "id": "FN-7lPtOa2oY"
      }
    },
    {
      "cell_type": "code",
      "execution_count": 8,
      "metadata": {
        "id": "bUbQzkNcOCGh"
      },
      "outputs": [],
      "source": [
        "# Write your MySQL query statement below\n",
        "\n",
        "query = \"\"\"\n",
        "\n",
        "SELECT P.FIRSTNAME,P.LASTNAME,A.CITY,A.STATE\n",
        "FROM PERSON AS P\n",
        "LEFT JOIN ADDRESS AS A\n",
        "ON A.PERSONID=P.PERSONID;\n",
        "\n",
        "\"\"\"\n"
      ]
    },
    {
      "cell_type": "markdown",
      "source": [
        "# Create dataset and objects"
      ],
      "metadata": {
        "id": "eZeDF4wlZsQs"
      }
    },
    {
      "cell_type": "code",
      "source": [
        "prac = sqlpy()\n",
        "\n",
        "input_data = [[1,\"Wang\",\"Allen\"],[2,\"Alice\",\"Bob\"]]\n",
        "input_cols= [\"personId\",\"lastName\",\"firstName\"]\n",
        "PERSON = prac.create_table(input_data,input_cols)\n",
        "\n",
        "input_data = [[1,2,\"New York City\",\"New York\"],[2,3,\"Leetcode\",\"California\"]]\n",
        "input_cols= [\"addressId\",\"personId\",\"city\",\"state\"]\n",
        "ADDRESS = prac.create_table(input_data,input_cols)\n",
        "\n",
        "\n",
        "output_data = [[\"Allen\", \"Wang\", \"\", \"\"], [\"Bob\", \"Alice\", \"New York City\", \"New York\"]]\n",
        "output_cols = [\"firstName\", \"lastName\", \"city\", \"state\"]\n",
        "output = prac.create_table(output_data,output_cols)\n",
        "\n",
        "\n",
        "\n"
      ],
      "metadata": {
        "id": "F-rBSvU8OIUN",
        "colab": {
          "base_uri": "https://localhost:8080/"
        },
        "outputId": "0cc33c26-17fe-46b6-b9e1-f82bd5d31e3b"
      },
      "execution_count": 10,
      "outputs": [
        {
          "output_type": "stream",
          "name": "stdout",
          "text": [
            "   personId lastName firstName\n",
            "0         1     Wang     Allen\n",
            "1         2    Alice       Bob\n",
            "   addressId  personId           city       state\n",
            "0          1         2  New York City    New York\n",
            "1          2         3       Leetcode  California\n",
            "  firstName lastName           city     state\n",
            "0     Allen     Wang                         \n",
            "1       Bob    Alice  New York City  New York\n"
          ]
        }
      ]
    },
    {
      "cell_type": "markdown",
      "source": [
        "#Benchmark Solution\n",
        "\n"
      ],
      "metadata": {
        "id": "CoWWRxZ-Zj80"
      }
    },
    {
      "cell_type": "code",
      "source": [
        "!pip install duckdb"
      ],
      "metadata": {
        "colab": {
          "base_uri": "https://localhost:8080/"
        },
        "id": "yaZr4aqvYkSi",
        "outputId": "476a8d9f-2c00-4708-a689-cc7e4269cec2"
      },
      "execution_count": 6,
      "outputs": [
        {
          "output_type": "stream",
          "name": "stdout",
          "text": [
            "Collecting duckdb\n",
            "  Downloading duckdb-0.3.2-cp37-cp37m-manylinux_2_17_x86_64.manylinux2014_x86_64.whl (12.5 MB)\n",
            "\u001b[K     |████████████████████████████████| 12.5 MB 7.7 MB/s \n",
            "\u001b[?25hRequirement already satisfied: numpy>=1.14 in /usr/local/lib/python3.7/dist-packages (from duckdb) (1.21.5)\n",
            "Installing collected packages: duckdb\n",
            "Successfully installed duckdb-0.3.2\n"
          ]
        }
      ]
    },
    {
      "cell_type": "code",
      "source": [
        "import duckdb\n",
        "sql_out= duckdb.query(query).df()\n",
        "print(sql_out)"
      ],
      "metadata": {
        "colab": {
          "base_uri": "https://localhost:8080/"
        },
        "id": "KvlbWSBbyLKk",
        "outputId": "21a879b7-ede4-42b1-d2a1-1665bdea15c4"
      },
      "execution_count": 11,
      "outputs": [
        {
          "output_type": "stream",
          "name": "stdout",
          "text": [
            "  firstName lastName           city     state\n",
            "0       Bob    Alice  New York City  New York\n",
            "1     Allen     Wang            NaN       NaN\n"
          ]
        }
      ]
    },
    {
      "cell_type": "code",
      "source": [
        "output.merge(sql_out,indicator= True, how='left').loc[lambda x : x['_merge']!='both']"
      ],
      "metadata": {
        "colab": {
          "base_uri": "https://localhost:8080/",
          "height": 81
        },
        "id": "ZK7KgdGa4lCg",
        "outputId": "afe48659-7853-4277-8f0c-d936e6148be0"
      },
      "execution_count": 12,
      "outputs": [
        {
          "output_type": "execute_result",
          "data": {
            "text/html": [
              "\n",
              "  <div id=\"df-a51570b2-06a3-4aa1-a209-b74a495da14c\">\n",
              "    <div class=\"colab-df-container\">\n",
              "      <div>\n",
              "<style scoped>\n",
              "    .dataframe tbody tr th:only-of-type {\n",
              "        vertical-align: middle;\n",
              "    }\n",
              "\n",
              "    .dataframe tbody tr th {\n",
              "        vertical-align: top;\n",
              "    }\n",
              "\n",
              "    .dataframe thead th {\n",
              "        text-align: right;\n",
              "    }\n",
              "</style>\n",
              "<table border=\"1\" class=\"dataframe\">\n",
              "  <thead>\n",
              "    <tr style=\"text-align: right;\">\n",
              "      <th></th>\n",
              "      <th>firstName</th>\n",
              "      <th>lastName</th>\n",
              "      <th>city</th>\n",
              "      <th>state</th>\n",
              "      <th>_merge</th>\n",
              "    </tr>\n",
              "  </thead>\n",
              "  <tbody>\n",
              "    <tr>\n",
              "      <th>0</th>\n",
              "      <td>Allen</td>\n",
              "      <td>Wang</td>\n",
              "      <td></td>\n",
              "      <td></td>\n",
              "      <td>left_only</td>\n",
              "    </tr>\n",
              "  </tbody>\n",
              "</table>\n",
              "</div>\n",
              "      <button class=\"colab-df-convert\" onclick=\"convertToInteractive('df-a51570b2-06a3-4aa1-a209-b74a495da14c')\"\n",
              "              title=\"Convert this dataframe to an interactive table.\"\n",
              "              style=\"display:none;\">\n",
              "        \n",
              "  <svg xmlns=\"http://www.w3.org/2000/svg\" height=\"24px\"viewBox=\"0 0 24 24\"\n",
              "       width=\"24px\">\n",
              "    <path d=\"M0 0h24v24H0V0z\" fill=\"none\"/>\n",
              "    <path d=\"M18.56 5.44l.94 2.06.94-2.06 2.06-.94-2.06-.94-.94-2.06-.94 2.06-2.06.94zm-11 1L8.5 8.5l.94-2.06 2.06-.94-2.06-.94L8.5 2.5l-.94 2.06-2.06.94zm10 10l.94 2.06.94-2.06 2.06-.94-2.06-.94-.94-2.06-.94 2.06-2.06.94z\"/><path d=\"M17.41 7.96l-1.37-1.37c-.4-.4-.92-.59-1.43-.59-.52 0-1.04.2-1.43.59L10.3 9.45l-7.72 7.72c-.78.78-.78 2.05 0 2.83L4 21.41c.39.39.9.59 1.41.59.51 0 1.02-.2 1.41-.59l7.78-7.78 2.81-2.81c.8-.78.8-2.07 0-2.86zM5.41 20L4 18.59l7.72-7.72 1.47 1.35L5.41 20z\"/>\n",
              "  </svg>\n",
              "      </button>\n",
              "      \n",
              "  <style>\n",
              "    .colab-df-container {\n",
              "      display:flex;\n",
              "      flex-wrap:wrap;\n",
              "      gap: 12px;\n",
              "    }\n",
              "\n",
              "    .colab-df-convert {\n",
              "      background-color: #E8F0FE;\n",
              "      border: none;\n",
              "      border-radius: 50%;\n",
              "      cursor: pointer;\n",
              "      display: none;\n",
              "      fill: #1967D2;\n",
              "      height: 32px;\n",
              "      padding: 0 0 0 0;\n",
              "      width: 32px;\n",
              "    }\n",
              "\n",
              "    .colab-df-convert:hover {\n",
              "      background-color: #E2EBFA;\n",
              "      box-shadow: 0px 1px 2px rgba(60, 64, 67, 0.3), 0px 1px 3px 1px rgba(60, 64, 67, 0.15);\n",
              "      fill: #174EA6;\n",
              "    }\n",
              "\n",
              "    [theme=dark] .colab-df-convert {\n",
              "      background-color: #3B4455;\n",
              "      fill: #D2E3FC;\n",
              "    }\n",
              "\n",
              "    [theme=dark] .colab-df-convert:hover {\n",
              "      background-color: #434B5C;\n",
              "      box-shadow: 0px 1px 3px 1px rgba(0, 0, 0, 0.15);\n",
              "      filter: drop-shadow(0px 1px 2px rgba(0, 0, 0, 0.3));\n",
              "      fill: #FFFFFF;\n",
              "    }\n",
              "  </style>\n",
              "\n",
              "      <script>\n",
              "        const buttonEl =\n",
              "          document.querySelector('#df-a51570b2-06a3-4aa1-a209-b74a495da14c button.colab-df-convert');\n",
              "        buttonEl.style.display =\n",
              "          google.colab.kernel.accessAllowed ? 'block' : 'none';\n",
              "\n",
              "        async function convertToInteractive(key) {\n",
              "          const element = document.querySelector('#df-a51570b2-06a3-4aa1-a209-b74a495da14c');\n",
              "          const dataTable =\n",
              "            await google.colab.kernel.invokeFunction('convertToInteractive',\n",
              "                                                     [key], {});\n",
              "          if (!dataTable) return;\n",
              "\n",
              "          const docLinkHtml = 'Like what you see? Visit the ' +\n",
              "            '<a target=\"_blank\" href=https://colab.research.google.com/notebooks/data_table.ipynb>data table notebook</a>'\n",
              "            + ' to learn more about interactive tables.';\n",
              "          element.innerHTML = '';\n",
              "          dataTable['output_type'] = 'display_data';\n",
              "          await google.colab.output.renderOutput(dataTable, element);\n",
              "          const docLink = document.createElement('div');\n",
              "          docLink.innerHTML = docLinkHtml;\n",
              "          element.appendChild(docLink);\n",
              "        }\n",
              "      </script>\n",
              "    </div>\n",
              "  </div>\n",
              "  "
            ],
            "text/plain": [
              "  firstName lastName city state     _merge\n",
              "0     Allen     Wang             left_only"
            ]
          },
          "metadata": {},
          "execution_count": 12
        }
      ]
    },
    {
      "cell_type": "markdown",
      "source": [
        "# Submission\n",
        "```sql\n",
        "-- Submission\n",
        "Runtime: 317 ms, faster than 87.39% of MySQL online submissions for Combine Two Tables.\n",
        "Memory Usage: 0B, less than 100.00% of MySQL online submissions for Combine Two Tables.\n",
        "```\n"
      ],
      "metadata": {
        "id": "FpD_wsz0srt0"
      }
    }
  ]
}