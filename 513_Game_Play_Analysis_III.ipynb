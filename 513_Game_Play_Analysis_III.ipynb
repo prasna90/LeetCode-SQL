{
  "nbformat": 4,
  "nbformat_minor": 0,
  "metadata": {
    "colab": {
      "name": "513. Game Play Analysis III.ipynb",
      "provenance": [],
      "collapsed_sections": [],
      "toc_visible": true,
      "authorship_tag": "ABX9TyPepalZUdN6xTmSkcgUp4+2",
      "include_colab_link": true
    },
    "kernelspec": {
      "name": "python3",
      "display_name": "Python 3"
    },
    "language_info": {
      "name": "python"
    }
  },
  "cells": [
    {
      "cell_type": "markdown",
      "metadata": {
        "id": "view-in-github",
        "colab_type": "text"
      },
      "source": [
        "<a href=\"https://colab.research.google.com/github/prasna90/LeetCode-SQL/blob/master/513_Game_Play_Analysis_III.ipynb\" target=\"_parent\"><img src=\"https://colab.research.google.com/assets/colab-badge.svg\" alt=\"Open In Colab\"/></a>"
      ]
    },
    {
      "cell_type": "markdown",
      "source": [
        "# Question\n",
        "```sql\n",
        " Table: Activity\n",
        "\n",
        "+--------------+---------+\n",
        "| Column Name  | Type    |\n",
        "+--------------+---------+\n",
        "| player_id    | int     |\n",
        "| device_id    | int     |\n",
        "| event_date   | date    |\n",
        "| games_played | int     |\n",
        "+--------------+---------+\n",
        "(player_id, event_date) is the primary key of this table.\n",
        "This table shows the activity of players of some games.\n",
        "Each row is a record of a player who logged in and played a number of games (possibly 0) before logging out on someday using some device.\n",
        " \n",
        "\n",
        "Write an SQL query to report for each player and date, how many games played so far by the player. That is, the total number of games played by the player until that date. Check the example for clarity.\n",
        "\n",
        "Return the result table in any order.\n",
        "\n",
        "The query result format is in the following example.\n",
        "\n",
        " \n",
        "\n",
        "Example 1:\n",
        "\n",
        "Input: \n",
        "Activity table:\n",
        "+-----------+-----------+------------+--------------+\n",
        "| player_id | device_id | event_date | games_played |\n",
        "+-----------+-----------+------------+--------------+\n",
        "| 1         | 2         | 2016-03-01 | 5            |\n",
        "| 1         | 2         | 2016-05-02 | 6            |\n",
        "| 1         | 3         | 2017-06-25 | 1            |\n",
        "| 3         | 1         | 2016-03-02 | 0            |\n",
        "| 3         | 4         | 2018-07-03 | 5            |\n",
        "+-----------+-----------+------------+--------------+\n",
        "Output: \n",
        "+-----------+------------+---------------------+\n",
        "| player_id | event_date | games_played_so_far |\n",
        "+-----------+------------+---------------------+\n",
        "| 1         | 2016-03-01 | 5                   |\n",
        "| 1         | 2016-05-02 | 11                  |\n",
        "| 1         | 2017-06-25 | 12                  |\n",
        "| 3         | 2016-03-02 | 0                   |\n",
        "| 3         | 2018-07-03 | 5                   |\n",
        "+-----------+------------+---------------------+\n",
        "Explanation: \n",
        "For the player with id 1, 5 + 6 = 11 games played by 2016-05-02, and 5 + 6 + 1 = 12 games played by 2017-06-25.\n",
        "For the player with id 3, 0 + 5 = 5 games played by 2018-07-03.\n",
        "Note that for each player we only care about the days when the player logged in.\n",
        "```"
      ],
      "metadata": {
        "id": "So6dRzP2a_so"
      }
    },
    {
      "cell_type": "markdown",
      "source": [
        "# SQL Class in python\n"
      ],
      "metadata": {
        "id": "D0CZUejF1EyE"
      }
    },
    {
      "cell_type": "code",
      "source": [
        "import pandas as pd\n",
        "\n",
        "class sqlpy():\n",
        "    \n",
        "    def create_table(self,data,cols):\n",
        "      return pd.DataFrame(data,columns= cols)\n",
        "    \n",
        "    def compare_output(self,output,sql_out):\n",
        "      return pd.concat([output,sql_out]).drop_duplicates(keep=False)\n",
        "\n"
      ],
      "metadata": {
        "id": "PJRRLMJh1I5b"
      },
      "execution_count": 4,
      "outputs": []
    },
    {
      "cell_type": "markdown",
      "source": [
        "# Solution\n",
        "\n"
      ],
      "metadata": {
        "id": "FN-7lPtOa2oY"
      }
    },
    {
      "cell_type": "code",
      "execution_count": 21,
      "metadata": {
        "id": "bUbQzkNcOCGh"
      },
      "outputs": [],
      "source": [
        "# Write your MySQL query statement below\n",
        "\n",
        "query1 = \"\"\"\n",
        "SELECT\n",
        "player_id,\n",
        "event_date,\n",
        "sum(games_played) OVER (partition by player_id order by event_date) as games_played_so_far\n",
        "FROM\n",
        "Activity\n",
        "\"\"\"\n",
        "\n",
        "query2 = \"\"\"\n",
        "select a.player_id, a.event_date, sum(b.games_played) as games_played_so_far\n",
        "from activity a join activity b\n",
        "on a.player_id = b.player_id\n",
        "where a.event_date >= b.event_date\n",
        "group by a.player_id, a.event_date\n",
        "order by a.player_id;\n",
        "\n",
        "\"\"\"\n"
      ]
    },
    {
      "cell_type": "markdown",
      "source": [
        "# Create dataset and objects"
      ],
      "metadata": {
        "id": "eZeDF4wlZsQs"
      }
    },
    {
      "cell_type": "code",
      "source": [
        "prac = sqlpy()\n",
        "join_data =  [[1, 3, \"2017-06-25\", 1, 1, 2, \"2016-03-01\", 5], [1, 2, \"2016-05-02\", 6, 1, 2, \"2016-03-01\", 5], [1, 2, \"2016-03-01\", 5, 1, 2, \"2016-03-01\", 5], [1, 3, \"2017-06-25\", 1, 1, 2, \"2016-05-02\", 6], [1, 2, \"2016-05-02\", 6, 1, 2, \"2016-05-02\", 6], [1, 2, \"2016-03-01\", 5, 1, 2, \"2016-05-02\", 6], [1, 3, \"2017-06-25\", 1, 1, 3, \"2017-06-25\", 1], [1, 2, \"2016-05-02\", 6, 1, 3, \"2017-06-25\", 1], [1, 2, \"2016-03-01\", 5, 1, 3, \"2017-06-25\", 1], [3, 4, \"2018-07-03\", 5, 3, 1, \"2016-03-02\", 0], [3, 1, \"2016-03-02\", 0, 3, 1, \"2016-03-02\", 0], [3, 4, \"2018-07-03\", 5, 3, 4, \"2018-07-03\", 5], [3, 1, \"2016-03-02\", 0, 3, 4, \"2018-07-03\", 5]]\n",
        "join_cols = [\"player_id\", \"device_id\", \"event_date\", \"games_played\", \"player_id\", \"device_id\", \"event_date\", \"games_played\"]\n",
        "print(prac.create_table(join_data,join_cols))\n",
        "\n",
        "join_with_where = [[1, 2, \"2016-03-01\", 5, 1, 2, \"2016-03-01\", 5], [1, 2, \"2016-05-02\", 6, 1, 2, \"2016-03-01\", 5], [1, 3, \"2017-06-25\", 1, 1, 2, \"2016-03-01\", 5], [3, 1, \"2016-03-02\", 0, 3, 1, \"2016-03-02\", 0], [3, 4, \"2018-07-03\", 5, 3, 1, \"2016-03-02\", 0]]\n",
        "print(prac.create_table(join_with_where,join_cols))\n"
      ],
      "metadata": {
        "colab": {
          "base_uri": "https://localhost:8080/"
        },
        "id": "gy8BvpwLGEJZ",
        "outputId": "cf458d94-f8fe-4d16-932e-50f3d0af8025"
      },
      "execution_count": 9,
      "outputs": [
        {
          "output_type": "stream",
          "name": "stdout",
          "text": [
            "    player_id  device_id  event_date  games_played  player_id  device_id  \\\n",
            "0           1          3  2017-06-25             1          1          2   \n",
            "1           1          2  2016-05-02             6          1          2   \n",
            "2           1          2  2016-03-01             5          1          2   \n",
            "3           1          3  2017-06-25             1          1          2   \n",
            "4           1          2  2016-05-02             6          1          2   \n",
            "5           1          2  2016-03-01             5          1          2   \n",
            "6           1          3  2017-06-25             1          1          3   \n",
            "7           1          2  2016-05-02             6          1          3   \n",
            "8           1          2  2016-03-01             5          1          3   \n",
            "9           3          4  2018-07-03             5          3          1   \n",
            "10          3          1  2016-03-02             0          3          1   \n",
            "11          3          4  2018-07-03             5          3          4   \n",
            "12          3          1  2016-03-02             0          3          4   \n",
            "\n",
            "    event_date  games_played  \n",
            "0   2016-03-01             5  \n",
            "1   2016-03-01             5  \n",
            "2   2016-03-01             5  \n",
            "3   2016-05-02             6  \n",
            "4   2016-05-02             6  \n",
            "5   2016-05-02             6  \n",
            "6   2017-06-25             1  \n",
            "7   2017-06-25             1  \n",
            "8   2017-06-25             1  \n",
            "9   2016-03-02             0  \n",
            "10  2016-03-02             0  \n",
            "11  2018-07-03             5  \n",
            "12  2018-07-03             5  \n",
            "   player_id  device_id  event_date  games_played  player_id  device_id  \\\n",
            "0          1          2  2016-03-01             5          1          2   \n",
            "1          1          2  2016-05-02             6          1          2   \n",
            "2          1          3  2017-06-25             1          1          2   \n",
            "3          3          1  2016-03-02             0          3          1   \n",
            "4          3          4  2018-07-03             5          3          1   \n",
            "\n",
            "   event_date  games_played  \n",
            "0  2016-03-01             5  \n",
            "1  2016-03-01             5  \n",
            "2  2016-03-01             5  \n",
            "3  2016-03-02             0  \n",
            "4  2016-03-02             0  \n"
          ]
        }
      ]
    },
    {
      "cell_type": "code",
      "source": [
        "prac = sqlpy()\n",
        "\n",
        "input_data = [[1,2,\"2016-03-01\",5],[1,2,\"2016-05-02\",6],[1,3,\"2017-06-25\",1],[3,1,\"2016-03-02\",0],[3,4,\"2018-07-03\",5]]\n",
        "input_cols= [\"player_id\",\"device_id\",\"event_date\",\"games_played\"]\n",
        "input = prac.create_table(input_data,input_cols)\n",
        "\n",
        "\n",
        "output_data = [[1, \"2016-03-01\", 5], [1, \"2016-05-02\", 11], [1, \"2017-06-25\", 12], [3, \"2016-03-02\", 0], [3, \"2018-07-03\", 5]]\n",
        "output_cols = [\"player_id\", \"event_date\", \"games_played_so_far\"]\n",
        "output = prac.create_table(output_data,output_cols)\n",
        "\n",
        "\n",
        "print(input)\n",
        "print(output)\n",
        "\n"
      ],
      "metadata": {
        "id": "F-rBSvU8OIUN",
        "colab": {
          "base_uri": "https://localhost:8080/"
        },
        "outputId": "7e034062-f244-4d61-ee1b-fdedb6de74f5"
      },
      "execution_count": 18,
      "outputs": [
        {
          "output_type": "stream",
          "name": "stdout",
          "text": [
            "   player_id  device_id  event_date  games_played\n",
            "0          1          2  2016-03-01             5\n",
            "1          1          2  2016-05-02             6\n",
            "2          1          3  2017-06-25             1\n",
            "3          3          1  2016-03-02             0\n",
            "4          3          4  2018-07-03             5\n",
            "   player_id  event_date  games_played_so_far\n",
            "0          1  2016-03-01                    5\n",
            "1          1  2016-05-02                   11\n",
            "2          1  2017-06-25                   12\n",
            "3          3  2016-03-02                    0\n",
            "4          3  2018-07-03                    5\n"
          ]
        }
      ]
    },
    {
      "cell_type": "markdown",
      "source": [
        "#Benchmark Solution\n",
        "\n"
      ],
      "metadata": {
        "id": "CoWWRxZ-Zj80"
      }
    },
    {
      "cell_type": "code",
      "source": [
        "!pip install duckdb"
      ],
      "metadata": {
        "colab": {
          "base_uri": "https://localhost:8080/"
        },
        "id": "yaZr4aqvYkSi",
        "outputId": "729223b3-0acb-4521-babc-598b479106d2"
      },
      "execution_count": 13,
      "outputs": [
        {
          "output_type": "stream",
          "name": "stdout",
          "text": [
            "Collecting duckdb\n",
            "  Downloading duckdb-0.3.2-cp37-cp37m-manylinux_2_17_x86_64.manylinux2014_x86_64.whl (12.5 MB)\n",
            "\u001b[K     |████████████████████████████████| 12.5 MB 24.8 MB/s \n",
            "\u001b[?25hRequirement already satisfied: numpy>=1.14 in /usr/local/lib/python3.7/dist-packages (from duckdb) (1.21.5)\n",
            "Installing collected packages: duckdb\n",
            "Successfully installed duckdb-0.3.2\n"
          ]
        }
      ]
    },
    {
      "cell_type": "code",
      "source": [
        "import duckdb\n",
        "Activity = input\n",
        "sql_out1= duckdb.query(query1).df()\n",
        "print(sql_out1)"
      ],
      "metadata": {
        "colab": {
          "base_uri": "https://localhost:8080/"
        },
        "id": "KvlbWSBbyLKk",
        "outputId": "ddfb7085-1552-4d98-9ffe-efb5e551d45d"
      },
      "execution_count": 23,
      "outputs": [
        {
          "output_type": "stream",
          "name": "stdout",
          "text": [
            "   player_id  event_date  games_played_so_far\n",
            "0          3  2016-03-02                  0.0\n",
            "1          3  2018-07-03                  5.0\n",
            "2          1  2016-03-01                  5.0\n",
            "3          1  2016-05-02                 11.0\n",
            "4          1  2017-06-25                 12.0\n"
          ]
        }
      ]
    },
    {
      "cell_type": "code",
      "source": [
        "output.merge(sql_out1,indicator= True, how='left').loc[lambda x : x['_merge']!='both']"
      ],
      "metadata": {
        "colab": {
          "base_uri": "https://localhost:8080/",
          "height": 49
        },
        "id": "ZK7KgdGa4lCg",
        "outputId": "9dcfd87c-2ee1-495c-cb75-fc9396759287"
      },
      "execution_count": 19,
      "outputs": [
        {
          "output_type": "execute_result",
          "data": {
            "text/html": [
              "\n",
              "  <div id=\"df-d0e1b6b7-55c1-464b-a348-cb34e761aae1\">\n",
              "    <div class=\"colab-df-container\">\n",
              "      <div>\n",
              "<style scoped>\n",
              "    .dataframe tbody tr th:only-of-type {\n",
              "        vertical-align: middle;\n",
              "    }\n",
              "\n",
              "    .dataframe tbody tr th {\n",
              "        vertical-align: top;\n",
              "    }\n",
              "\n",
              "    .dataframe thead th {\n",
              "        text-align: right;\n",
              "    }\n",
              "</style>\n",
              "<table border=\"1\" class=\"dataframe\">\n",
              "  <thead>\n",
              "    <tr style=\"text-align: right;\">\n",
              "      <th></th>\n",
              "      <th>player_id</th>\n",
              "      <th>event_date</th>\n",
              "      <th>games_played_so_far</th>\n",
              "      <th>_merge</th>\n",
              "    </tr>\n",
              "  </thead>\n",
              "  <tbody>\n",
              "  </tbody>\n",
              "</table>\n",
              "</div>\n",
              "      <button class=\"colab-df-convert\" onclick=\"convertToInteractive('df-d0e1b6b7-55c1-464b-a348-cb34e761aae1')\"\n",
              "              title=\"Convert this dataframe to an interactive table.\"\n",
              "              style=\"display:none;\">\n",
              "        \n",
              "  <svg xmlns=\"http://www.w3.org/2000/svg\" height=\"24px\"viewBox=\"0 0 24 24\"\n",
              "       width=\"24px\">\n",
              "    <path d=\"M0 0h24v24H0V0z\" fill=\"none\"/>\n",
              "    <path d=\"M18.56 5.44l.94 2.06.94-2.06 2.06-.94-2.06-.94-.94-2.06-.94 2.06-2.06.94zm-11 1L8.5 8.5l.94-2.06 2.06-.94-2.06-.94L8.5 2.5l-.94 2.06-2.06.94zm10 10l.94 2.06.94-2.06 2.06-.94-2.06-.94-.94-2.06-.94 2.06-2.06.94z\"/><path d=\"M17.41 7.96l-1.37-1.37c-.4-.4-.92-.59-1.43-.59-.52 0-1.04.2-1.43.59L10.3 9.45l-7.72 7.72c-.78.78-.78 2.05 0 2.83L4 21.41c.39.39.9.59 1.41.59.51 0 1.02-.2 1.41-.59l7.78-7.78 2.81-2.81c.8-.78.8-2.07 0-2.86zM5.41 20L4 18.59l7.72-7.72 1.47 1.35L5.41 20z\"/>\n",
              "  </svg>\n",
              "      </button>\n",
              "      \n",
              "  <style>\n",
              "    .colab-df-container {\n",
              "      display:flex;\n",
              "      flex-wrap:wrap;\n",
              "      gap: 12px;\n",
              "    }\n",
              "\n",
              "    .colab-df-convert {\n",
              "      background-color: #E8F0FE;\n",
              "      border: none;\n",
              "      border-radius: 50%;\n",
              "      cursor: pointer;\n",
              "      display: none;\n",
              "      fill: #1967D2;\n",
              "      height: 32px;\n",
              "      padding: 0 0 0 0;\n",
              "      width: 32px;\n",
              "    }\n",
              "\n",
              "    .colab-df-convert:hover {\n",
              "      background-color: #E2EBFA;\n",
              "      box-shadow: 0px 1px 2px rgba(60, 64, 67, 0.3), 0px 1px 3px 1px rgba(60, 64, 67, 0.15);\n",
              "      fill: #174EA6;\n",
              "    }\n",
              "\n",
              "    [theme=dark] .colab-df-convert {\n",
              "      background-color: #3B4455;\n",
              "      fill: #D2E3FC;\n",
              "    }\n",
              "\n",
              "    [theme=dark] .colab-df-convert:hover {\n",
              "      background-color: #434B5C;\n",
              "      box-shadow: 0px 1px 3px 1px rgba(0, 0, 0, 0.15);\n",
              "      filter: drop-shadow(0px 1px 2px rgba(0, 0, 0, 0.3));\n",
              "      fill: #FFFFFF;\n",
              "    }\n",
              "  </style>\n",
              "\n",
              "      <script>\n",
              "        const buttonEl =\n",
              "          document.querySelector('#df-d0e1b6b7-55c1-464b-a348-cb34e761aae1 button.colab-df-convert');\n",
              "        buttonEl.style.display =\n",
              "          google.colab.kernel.accessAllowed ? 'block' : 'none';\n",
              "\n",
              "        async function convertToInteractive(key) {\n",
              "          const element = document.querySelector('#df-d0e1b6b7-55c1-464b-a348-cb34e761aae1');\n",
              "          const dataTable =\n",
              "            await google.colab.kernel.invokeFunction('convertToInteractive',\n",
              "                                                     [key], {});\n",
              "          if (!dataTable) return;\n",
              "\n",
              "          const docLinkHtml = 'Like what you see? Visit the ' +\n",
              "            '<a target=\"_blank\" href=https://colab.research.google.com/notebooks/data_table.ipynb>data table notebook</a>'\n",
              "            + ' to learn more about interactive tables.';\n",
              "          element.innerHTML = '';\n",
              "          dataTable['output_type'] = 'display_data';\n",
              "          await google.colab.output.renderOutput(dataTable, element);\n",
              "          const docLink = document.createElement('div');\n",
              "          docLink.innerHTML = docLinkHtml;\n",
              "          element.appendChild(docLink);\n",
              "        }\n",
              "      </script>\n",
              "    </div>\n",
              "  </div>\n",
              "  "
            ],
            "text/plain": [
              "Empty DataFrame\n",
              "Columns: [player_id, event_date, games_played_so_far, _merge]\n",
              "Index: []"
            ]
          },
          "metadata": {},
          "execution_count": 19
        }
      ]
    },
    {
      "cell_type": "markdown",
      "source": [
        "# Submission\n",
        "```sql\n",
        "\n",
        "Query 1:\n",
        "Runtime: 919 ms, faster than 27.17% of MySQL online submissions for Game Play Analysis III.\n",
        "Memory Usage: 0B, less than 100.00% of MySQL online submissions for Game Play Analysis III.\n",
        "\n",
        "\n",
        "Query 2:\n",
        "Runtime: 804 ms, faster than 49.42% of MySQL online submissions for Game Play Analysis III.\n",
        "Memory Usage: 0B, less than 100.00% of MySQL online submissions for Game Play Analysis III.\n",
        "```\n"
      ],
      "metadata": {
        "id": "FpD_wsz0srt0"
      }
    }
  ]
}